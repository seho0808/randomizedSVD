{
 "cells": [
  {
   "cell_type": "markdown",
   "metadata": {},
   "source": [
    "* Code in this file is intended to show:\n",
    "    1. how to generate random matrix with a desired rank\n",
    "    2. how to sample random linear combinations of a matrix's columns\n",
    "    3. that randomly sampled linear combinations of a matrix's columns are very likely to be linearly independent\n",
    "* Example Snippets are for syntax tests. You can ignore them."
   ]
  },
  {
   "cell_type": "code",
   "execution_count": 2,
   "metadata": {},
   "outputs": [],
   "source": [
    "import pandas as pandas\n",
    "import random as rd\n",
    "import numpy as np"
   ]
  },
  {
   "cell_type": "markdown",
   "metadata": {},
   "source": [
    "# Generate Random Matrix 10,000 * 10,000"
   ]
  },
  {
   "cell_type": "markdown",
   "metadata": {},
   "source": [
    "* **A = UPV**\n",
    "    * U: m×m invertible\n",
    "\n",
    "    * V: n×n invertible and\n",
    "\n",
    "    * P: the m×n matrix with rank k ones on the diagonal\n",
    "\n",
    "    -Reference:\n",
    "https://math.stackexchange.com/questions/757671/generate-some-random-matrix-with-given-rank"
   ]
  },
  {
   "cell_type": "code",
   "execution_count": 6,
   "metadata": {},
   "outputs": [
    {
     "name": "stdout",
     "output_type": "stream",
     "text": [
      "[[51155. 42738. 47944. ... 54735. 50954. 46709.]\n",
      " [52178. 42461. 41680. ... 56644. 57445. 61317.]\n",
      " [47771. 40639. 48520. ... 47623. 43982. 44907.]\n",
      " ...\n",
      " [46288. 37753. 40303. ... 43297. 54682. 50933.]\n",
      " [60025. 44543. 51643. ... 57208. 62223. 59914.]\n",
      " [45355. 36996. 44641. ... 44832. 48962. 44845.]]\n"
     ]
    }
   ],
   "source": [
    "#Generating randomly gives a high chance of making U and V invertible (full rank)\n",
    "#Set rank of P to be 50 by changing code to k = 50. This means we want our result A to have rank 50.\n",
    "\n",
    "#Below code is modified for a quick check. Below Generates 2000x2000 matrix with rank 20.\n",
    "#If you desire to generate 10,000x10,000 sized matrix, modify m and n by corresponding values with desired rank.\n",
    "m = 2000\n",
    "n = 2000\n",
    "k = 20\n",
    "randomRange = 100\n",
    "randU = np.zeros((m,m))\n",
    "for i in list(range(0,m)):\n",
    "    randU[i] = np.random.choice(randomRange,m) #m*m by random range 1~100\n",
    "randV = np.zeros((n,n))\n",
    "for i in list(range(0,n)):\n",
    "    randV[i] = np.random.choice(randomRange,n) #n*n by random range 1~100\n",
    "P = np.diag([1]*k + [0]*(m-k))\n",
    "\n",
    "#matmul is quite slow...\n",
    "A = np.matmul(randU,P) #You can't just use *!!! You have to use matmul function.\n",
    "A = np.matmul(A,randV)\n",
    "print(A)"
   ]
  },
  {
   "cell_type": "markdown",
   "metadata": {},
   "source": [
    "# Guess Rank of A"
   ]
  },
  {
   "cell_type": "code",
   "execution_count": 7,
   "metadata": {},
   "outputs": [
    {
     "name": "stdout",
     "output_type": "stream",
     "text": [
      "[[1 2 3 4]]\n",
      "[[1 1 1 1]\n",
      " [2 2 2 2]]\n",
      "[[10]\n",
      " [20]]\n"
     ]
    }
   ],
   "source": [
    "#example snippet\n",
    "temp1 = np.matrix([1,2,3,4])\n",
    "temp2 = np.matrix([[1,1,1,1],[2,2,2,2]])\n",
    "print(temp1)\n",
    "print(temp2)\n",
    "print(np.matmul(temp2,np.transpose(temp1)))"
   ]
  },
  {
   "cell_type": "code",
   "execution_count": 8,
   "metadata": {},
   "outputs": [
    {
     "name": "stdout",
     "output_type": "stream",
     "text": [
      "20\n"
     ]
    }
   ],
   "source": [
    "#Algorithm for measuring rank of A\n",
    "listAw = []\n",
    "cnt = 1;\n",
    "for i in list(range(0,100)):\n",
    "    w = (np.random.choice(int(n/10),n)) #Generate one random vector\n",
    "    listAw.append(np.matmul(A,w))\n",
    "    tempA = np.transpose(np.mat(np.vstack(listAw)))\n",
    "    if np.linalg.matrix_rank(tempA) < cnt:\n",
    "        break\n",
    "    cnt = cnt+1\n",
    "# matrix including last dependent vector\n",
    "#result = np.transpose(np.mat(np.vstack(listAw)))\n",
    "resultRank = cnt-1\n",
    "print(resultRank)"
   ]
  },
  {
   "cell_type": "code",
   "execution_count": 9,
   "metadata": {},
   "outputs": [
    {
     "name": "stdout",
     "output_type": "stream",
     "text": [
      "[[1]\n",
      " [2]\n",
      " [3]\n",
      " [4]]\n",
      "[[1 2]\n",
      " [1 2]\n",
      " [1 2]\n",
      " [1 2]]\n"
     ]
    },
    {
     "data": {
      "text/plain": [
       "matrix([[1, 1, 2],\n",
       "        [2, 1, 2],\n",
       "        [3, 1, 2],\n",
       "        [4, 1, 2]])"
      ]
     },
     "execution_count": 9,
     "metadata": {},
     "output_type": "execute_result"
    }
   ],
   "source": [
    "#example snippet\n",
    "print(np.transpose(temp1))\n",
    "print(np.transpose(temp2))\n",
    "np.column_stack([np.transpose(temp1),np.transpose(temp2)])"
   ]
  },
  {
   "cell_type": "code",
   "execution_count": 10,
   "metadata": {},
   "outputs": [
    {
     "name": "stdout",
     "output_type": "stream",
     "text": [
      "[162 190 107 ...  84 179 139]\n",
      "[107  66 173 ...  64 135 194]\n",
      "[  4 149  16 ...  75 177 141]\n",
      "[130 158 159 ... 156 198  44]\n",
      "[ 70  79 134 ... 198 106 121]\n",
      "[132 131  35 ... 171  33 110]\n",
      "[ 39 161 107 ...   9 166  23]\n",
      "[ 52 154  86 ... 147 145 171]\n",
      "[ 11 153  19 ...  44  59  88]\n",
      "[ 89  35 185 ...  46 142  16]\n",
      "10\n",
      "[[162 107   4 ...  52  11  89]\n",
      " [190  66 149 ... 154 153  35]\n",
      " [107 173  16 ...  86  19 185]\n",
      " ...\n",
      " [ 84  64  75 ... 147  44  46]\n",
      " [179 135 177 ... 145  59 142]\n",
      " [139 194 141 ... 171  88  16]]\n"
     ]
    }
   ],
   "source": [
    "#example snippet\n",
    "tempL = []\n",
    "for i in list(range(0,10)):\n",
    "    w = (np.random.choice(int(n/10),n))\n",
    "    print(w)\n",
    "    tempL.append(w)\n",
    "what=np.transpose(np.mat(np.vstack(tempL)))\n",
    "print(np.linalg.matrix_rank(what))\n",
    "print(what)"
   ]
  },
  {
   "cell_type": "code",
   "execution_count": null,
   "metadata": {},
   "outputs": [
    {
     "name": "stdout",
     "output_type": "stream",
     "text": [
      "20\n",
      "20\n",
      "20\n",
      "20\n",
      "20\n",
      "20\n",
      "20\n",
      "20\n",
      "20\n",
      "20\n",
      "20\n",
      "20\n",
      "20\n",
      "20\n",
      "20\n",
      "20\n",
      "20\n",
      "20\n",
      "20\n",
      "20\n",
      "20\n",
      "20\n",
      "20\n",
      "20\n",
      "20\n",
      "20\n",
      "20\n",
      "20\n",
      "20\n",
      "20\n",
      "20\n",
      "20\n",
      "20\n",
      "20\n",
      "20\n",
      "20\n",
      "20\n",
      "20\n",
      "20\n",
      "20\n",
      "20\n",
      "20\n",
      "20\n",
      "20\n",
      "20\n",
      "20\n",
      "20\n",
      "20\n",
      "20\n",
      "20\n",
      "20\n",
      "20\n",
      "20\n",
      "20\n",
      "20\n",
      "20\n",
      "20\n",
      "20\n",
      "20\n"
     ]
    }
   ],
   "source": [
    "#Test 100 times\n",
    "for i in list(range(0,100)):\n",
    "    m = 2000\n",
    "    n = 2000\n",
    "    k = 20\n",
    "    randomRange = 100\n",
    "    randU = np.zeros((m,m))\n",
    "    for i in list(range(0,m)):\n",
    "        randU[i] = np.random.choice(randomRange,m)\n",
    "    randV = np.zeros((n,n))\n",
    "    for i in list(range(0,n)):\n",
    "        randV[i] = np.random.choice(randomRange,n) \n",
    "    P = np.diag([1]*k + [0]*(m-k))\n",
    "\n",
    "    #matmul is quite slow...\n",
    "    A = np.matmul(randU,P) #You can't just use *!!! You have to use matmul function.\n",
    "    A = np.matmul(A,randV)\n",
    "\n",
    "    listAw = []\n",
    "    cnt = 1;\n",
    "    for i in list(range(0,100)):\n",
    "        w = (np.random.choice(int(n/10),n)) #Generate one random vector\n",
    "        listAw.append(np.matmul(A,w))\n",
    "        tempA = np.transpose(np.mat(np.vstack(listAw)))\n",
    "        if np.linalg.matrix_rank(tempA) < cnt:\n",
    "            break\n",
    "        cnt = cnt+1\n",
    "    # matrix including last dependent vector\n",
    "    #result = np.transpose(np.mat(np.vstack(listAw)))\n",
    "    resultRank = cnt-1\n",
    "    print(resultRank)\n",
    "    "
   ]
  },
  {
   "cell_type": "code",
   "execution_count": null,
   "metadata": {},
   "outputs": [],
   "source": []
  }
 ],
 "metadata": {
  "kernelspec": {
   "display_name": "Python 3",
   "language": "python",
   "name": "python3"
  },
  "language_info": {
   "codemirror_mode": {
    "name": "ipython",
    "version": 3
   },
   "file_extension": ".py",
   "mimetype": "text/x-python",
   "name": "python",
   "nbconvert_exporter": "python",
   "pygments_lexer": "ipython3",
   "version": "3.7.1"
  }
 },
 "nbformat": 4,
 "nbformat_minor": 2
}
