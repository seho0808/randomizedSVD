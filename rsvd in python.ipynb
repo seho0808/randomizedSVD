{
 "cells": [
  {
   "cell_type": "markdown",
   "metadata": {},
   "source": [
    "* The code in this file implements the randomized svd based on pseudocodes of the rsvd library.\n",
    "* The rsvd library and its write up can be found at: https://github.com/erichson/rSVD and https://arxiv.org/pdf/1608.02148.pdf"
   ]
  },
  {
   "cell_type": "code",
   "execution_count": 2,
   "metadata": {},
   "outputs": [],
   "source": [
    "import pandas as pandas\n",
    "import random as rd\n",
    "import numpy as np"
   ]
  },
  {
   "cell_type": "markdown",
   "metadata": {},
   "source": [
    "* Generate A for use"
   ]
  },
  {
   "cell_type": "code",
   "execution_count": 94,
   "metadata": {},
   "outputs": [
    {
     "name": "stdout",
     "output_type": "stream",
     "text": [
      "[[5.7476 4.4558 4.8515 ... 4.7822 4.67   5.1844]\n",
      " [5.1656 5.3062 5.7215 ... 5.4564 4.7711 5.6947]\n",
      " [4.9487 4.2724 4.8434 ... 4.1129 3.8378 4.9958]\n",
      " ...\n",
      " [5.5343 4.9341 5.1085 ... 5.2254 5.0698 5.8547]\n",
      " [4.7141 3.7066 4.1004 ... 4.7053 4.4773 5.0054]\n",
      " [5.8679 4.5298 5.4019 ... 5.0081 4.9513 6.0648]]\n"
     ]
    }
   ],
   "source": [
    "# A is mxn and rank k.\n",
    "m = 2000\n",
    "n = 2000\n",
    "k = 20\n",
    "randomRange = 100\n",
    "randU = np.zeros((m,m))\n",
    "for i in list(range(0,m)):\n",
    "    randU[i] = np.random.choice(randomRange,m)/100 #m*m by random range 1~100\n",
    "randV = np.zeros((n,n))\n",
    "for i in list(range(0,n)):\n",
    "    randV[i] = np.random.choice(randomRange,n)/100 #n*n by random range 1~100\n",
    "P = np.diag([1]*k + [0]*(m-k))\n",
    "\n",
    "#matmul is quite slow...\n",
    "A = np.matmul(randU,P) #You can't just use *!!! You have to use matmul function.\n",
    "A = np.matmul(A,randV)\n",
    "print(A)"
   ]
  },
  {
   "cell_type": "markdown",
   "metadata": {},
   "source": [
    "# rsvd implementation in python"
   ]
  },
  {
   "cell_type": "markdown",
   "metadata": {},
   "source": [
    "* Step1: compute $Q$  used in $A\\approx Q Q^T A = QB$\n",
    "    0. Preprocess $A$ to $A^{(q)} := (AA^T)^{(q)}A$\n",
    "    1. Generate Random Matrix $\\Omega$\n",
    "    2. Apply QR-decomp to $Y:=A\\Omega = QR$"
   ]
  },
  {
   "cell_type": "code",
   "execution_count": 38,
   "metadata": {},
   "outputs": [
    {
     "name": "stdout",
     "output_type": "stream",
     "text": [
      "[array([1.61, 1.33, 1.34, ..., 1.72, 1.69, 0.42]), array([0.09, 1.96, 1.38, ..., 0.62, 0.49, 1.97]), array([0.86, 0.12, 1.49, ..., 1.73, 1.5 , 0.83]), array([1.67, 1.14, 1.26, ..., 0.29, 0.18, 0.44]), array([1.77, 0.57, 0.58, ..., 1.09, 1.28, 0.57]), array([1.1 , 1.12, 0.97, ..., 1.08, 0.53, 0.82]), array([0.52, 1.58, 0.4 , ..., 1.62, 1.52, 1.87]), array([1.48, 0.45, 0.21, ..., 0.17, 1.01, 1.37]), array([0.13, 0.63, 0.04, ..., 0.94, 0.89, 1.01]), array([1.05, 1.11, 1.61, ..., 1.12, 0.29, 0.5 ]), array([0.69, 0.09, 0.11, ..., 1.12, 0.91, 0.22]), array([0.07, 1.18, 0.36, ..., 0.28, 0.81, 0.35]), array([1.5 , 0.76, 1.83, ..., 1.15, 1.52, 0.82]), array([0.94, 1.59, 1.77, ..., 0.63, 0.29, 1.23]), array([1.29, 0.21, 0.19, ..., 1.21, 0.12, 0.34]), array([1.78, 1.18, 0.01, ..., 1.22, 0.4 , 1.87]), array([1.05, 1.25, 1.98, ..., 0.4 , 1.1 , 0.51]), array([1.64, 1.72, 0.19, ..., 1.96, 0.97, 1.77]), array([1.  , 1.67, 1.23, ..., 1.35, 0.68, 1.81]), array([0.46, 1.98, 0.21, ..., 1.26, 1.47, 1.3 ]), array([0.71, 0.5 , 0.57, ..., 0.79, 0.3 , 0.13]), array([0.21, 1.1 , 1.98, ..., 1.6 , 1.8 , 1.09]), array([0.52, 0.67, 0.53, ..., 0.55, 0.32, 1.2 ]), array([1.11, 1.85, 1.85, ..., 1.65, 1.79, 0.12]), array([0.3 , 0.25, 1.09, ..., 1.13, 1.9 , 0.84]), array([0.87, 0.49, 0.72, ..., 0.57, 1.78, 0.54]), array([1.95, 0.95, 0.31, ..., 0.99, 1.17, 0.  ]), array([1.96, 1.49, 1.82, ..., 0.78, 0.43, 1.75]), array([1.97, 1.31, 0.57, ..., 1.48, 0.24, 1.07]), array([0.9 , 1.14, 0.64, ..., 1.26, 1.85, 1.61]), array([1.91, 1.53, 0.61, ..., 0.31, 1.94, 1.27]), array([1.48, 0.34, 1.83, ..., 1.96, 0.17, 0.62]), array([1.16, 0.04, 0.12, ..., 1.2 , 1.56, 1.07]), array([1.33, 0.5 , 0.1 , ..., 1.37, 1.83, 0.61]), array([1.32, 0.89, 0.42, ..., 1.71, 0.88, 1.06]), array([1.46, 0.64, 1.36, ..., 1.15, 1.75, 0.67]), array([1.86, 1.56, 1.66, ..., 1.21, 0.89, 0.72]), array([1.91, 1.65, 0.16, ..., 0.4 , 0.68, 1.69]), array([0.64, 1.24, 1.94, ..., 1.07, 1.01, 1.94]), array([1.88, 1.2 , 0.91, ..., 1.57, 0.32, 1.62])]\n",
      "[[1.61 0.09 0.86 ... 1.91 0.64 1.88]\n",
      " [1.33 1.96 0.12 ... 1.65 1.24 1.2 ]\n",
      " [1.34 1.38 1.49 ... 0.16 1.94 0.91]\n",
      " ...\n",
      " [1.72 0.62 1.73 ... 0.4  1.07 1.57]\n",
      " [1.69 0.49 1.5  ... 0.68 1.01 0.32]\n",
      " [0.42 1.97 0.83 ... 1.69 1.94 1.62]]\n"
     ]
    }
   ],
   "source": [
    "# Generate Random Matrix Omega(nxk)\n",
    "q = 2 # Preprocessing (page 9 of the write up of rsvd) for better computation, applied later with Y\n",
    "k = 30 # How many random vectors you want to use -> changes the size of Omega.\n",
    "p = 10 # OverSampling\n",
    "l = k+p # l is lowercase L\n",
    "Omega = []\n",
    "for i in list(range(0,l)):\n",
    "    w = (np.random.choice(int(n/10),n))/100 # n is the column number of A\n",
    "    Omega.append(w)\n",
    "print(Omega) # Omega is a collection of k+p random vectors\n",
    "Omega = np.column_stack(Omega) # Merge all k+p vectors into a matrix Omega.\n",
    "print(Omega)"
   ]
  },
  {
   "cell_type": "code",
   "execution_count": 42,
   "metadata": {},
   "outputs": [],
   "source": [
    "# Apply QR-decomp to A*Omega with preprocess amount q (refer to page 9 in the write up by Erichson)\n",
    "Y = np.matmul(A,Omega)\n",
    "for i in list(range(0,q)):\n",
    "    Q, R = np.linalg.qr(Y)\n",
    "    Q, R = np.linalg.qr(np.matmul(np.transpose(A), Q))\n",
    "    Y = np.matmul(A,Q)\n",
    "Q, R = np.linalg.qr(Y)"
   ]
  },
  {
   "cell_type": "markdown",
   "metadata": {},
   "source": [
    "* Step2: $A \\approx QQ^{T}A = QB = Q\\hat{U}\\Sigma V^{T} = U\\Sigma V^{T}$"
   ]
  },
  {
   "cell_type": "code",
   "execution_count": 44,
   "metadata": {},
   "outputs": [],
   "source": [
    "# Apply traditional svd on B and gain approx svd for A\n",
    "B = np.matmul(np.transpose(Q),A)\n",
    "U_hat, S, V_t = np.linalg.svd(B)\n",
    "U = np.matmul(Q,U_hat)\n",
    "# Now svd for A is approx U, S, V_t"
   ]
  },
  {
   "cell_type": "code",
   "execution_count": 50,
   "metadata": {},
   "outputs": [],
   "source": [
    "# True SVD of A\n",
    "U2,S2,V2 = np.linalg.svd(A)"
   ]
  },
  {
   "cell_type": "code",
   "execution_count": 80,
   "metadata": {},
   "outputs": [
    {
     "data": {
      "image/png": "[encoded data removed]",
      "text/plain": [
       "<Figure size 432x288 with 1 Axes>"
      ]
     },
     "metadata": {
      "needs_background": "light"
     },
     "output_type": "display_data"
    }
   ],
   "source": [
    "import matplotlib.pyplot as plt\n",
    "plt.plot(S,color = \"blue\")\n",
    "plt.plot(S2,color=\"red\")\n",
    "plt.xlim(0,50)\n",
    "#plt.ylim(0,100)\n",
    "plt.show()\n",
    "########### LOOK CLOSELY ON THE 39 MARK. YOU CAN SEE WHERE SVD OF B ENDS. THIS PROVES HOW ACCURATE IT IS"
   ]
  },
  {
   "cell_type": "code",
   "execution_count": 76,
   "metadata": {},
   "outputs": [
    {
     "name": "stdout",
     "output_type": "stream",
     "text": [
      "5.977053044981967e-12\n"
     ]
    }
   ],
   "source": [
    "# Difference in size of the approximated spectrum and the true spectrum. It is very small.\n",
    "concS2 = S2[:40]\n",
    "diff = np.linalg.norm(concS2-S)\n",
    "print(diff)"
   ]
  },
  {
   "cell_type": "markdown",
   "metadata": {},
   "source": [
    "# Diverse Insights"
   ]
  },
  {
   "cell_type": "markdown",
   "metadata": {},
   "source": [
    "* Decay in spectrum for preprocessed and non-preprocessed matrices (page 8 of rsvd write up by Erichson)"
   ]
  },
  {
   "cell_type": "code",
   "execution_count": 95,
   "metadata": {},
   "outputs": [
    {
     "data": {
      "image/png": "[encoded data removed]",
      "text/plain": [
       "<Figure size 432x288 with 1 Axes>"
      ]
     },
     "metadata": {
      "needs_background": "light"
     },
     "output_type": "display_data"
    }
   ],
   "source": [
    "# True Spectrum vs Preprocessed Spectrum\n",
    "U2,S2,V2 = np.linalg.svd(A)\n",
    "AAT = np.matmul(A,np.transpose(A))\n",
    "A_1 = np.matmul(AAT,A)\n",
    "U3,S3,V3 = np.linalg.svd(A_1)\n",
    "A_2 = np.matmul(AAT,A_1)\n",
    "U4,S4,V4 = np.linalg.svd(A_2)\n",
    "\n",
    "import matplotlib.pyplot as plt\n",
    "plt.plot(S2,color = \"blue\")\n",
    "plt.plot(S3,color=\"red\")\n",
    "plt.plot(S4,color=\"green\")\n",
    "plt.xlim(0,50)\n",
    "plt.show()"
   ]
  },
  {
   "cell_type": "code",
   "execution_count": null,
   "metadata": {},
   "outputs": [],
   "source": []
  },
  {
   "cell_type": "code",
   "execution_count": null,
   "metadata": {},
   "outputs": [],
   "source": []
  },
  {
   "cell_type": "code",
   "execution_count": null,
   "metadata": {},
   "outputs": [],
   "source": []
  },
  {
   "cell_type": "markdown",
   "metadata": {},
   "source": [
    "# Time Comparison"
   ]
  },
  {
   "cell_type": "code",
   "execution_count": 82,
   "metadata": {},
   "outputs": [],
   "source": [
    "import time"
   ]
  },
  {
   "cell_type": "code",
   "execution_count": 85,
   "metadata": {},
   "outputs": [
    {
     "name": "stdout",
     "output_type": "stream",
     "text": [
      "5.034790754318237\n"
     ]
    }
   ],
   "source": [
    "#### normal svd\n",
    "\n",
    "start = time.time()\n",
    "U2,S2,V2 = np.linalg.svd(A)\n",
    "end = time.time()\n",
    "\n",
    "print(end-start)"
   ]
  },
  {
   "cell_type": "code",
   "execution_count": 86,
   "metadata": {},
   "outputs": [
    {
     "name": "stdout",
     "output_type": "stream",
     "text": [
      "0.5161824226379395\n"
     ]
    }
   ],
   "source": [
    "#### rsvd with q=2 k=30 => 10 times faster than normal svd\n",
    "\n",
    "start = time.time()\n",
    "# Generate Random Matrix Omega(nxk)\n",
    "q = 2 # Preprocessing (page 9 of the write up of rsvd) for better computation, applied later with Y\n",
    "k = 30 # How many random vectors you want to use -> changes the size of Omega.\n",
    "p = 10 # OverSampling\n",
    "l = k+p # l is lowercase L\n",
    "Omega = []\n",
    "for i in list(range(0,l)):\n",
    "    w = (np.random.choice(int(n/10),n))/100 # n is the column number of A\n",
    "    Omega.append(w)\n",
    "Omega = np.column_stack(Omega) # Merge all k+p vectors into a matrix Omega.\n",
    "# Apply QR-decomp to A*Omega with preprocess amount q (refer to page 9 in the write up by Erichson)\n",
    "Y = np.matmul(A,Omega)\n",
    "for i in list(range(0,q)):\n",
    "    Q, R = np.linalg.qr(Y)\n",
    "    Q, R = np.linalg.qr(np.matmul(np.transpose(A), Q))\n",
    "    Y = np.matmul(A,Q)\n",
    "Q, R = np.linalg.qr(Y)\n",
    "# Apply traditional svd on B and gain approx svd for A\n",
    "B = np.matmul(np.transpose(Q),A)\n",
    "U_hat, S, V_t = np.linalg.svd(B)\n",
    "U = np.matmul(Q,U_hat)\n",
    "# Now svd for A is approx U, S, V_t\n",
    "end = time.time()\n",
    "\n",
    "print(end-start)"
   ]
  },
  {
   "cell_type": "code",
   "execution_count": 91,
   "metadata": {},
   "outputs": [
    {
     "name": "stdout",
     "output_type": "stream",
     "text": [
      "0.15802979469299316\n"
     ]
    }
   ],
   "source": [
    "#### rsvd with q=0 k=2\n",
    "\n",
    "start = time.time()\n",
    "# Generate Random Matrix Omega(nxk)\n",
    "q = 0 # Preprocessing (page 9 of the write up of rsvd) for better computation, applied later with Y\n",
    "k = 2 # How many random vectors you want to use -> changes the size of Omega.\n",
    "p = 0 # OverSampling\n",
    "l = k+p # l is lowercase L\n",
    "Omega = []\n",
    "for i in list(range(0,l)):\n",
    "    w = (np.random.choice(int(n/10),n))/100 # n is the column number of A\n",
    "    Omega.append(w)\n",
    "Omega = np.column_stack(Omega) # Merge all k+p vectors into a matrix Omega.\n",
    "# Apply QR-decomp to A*Omega with preprocess amount q (refer to page 9 in the write up by Erichson)\n",
    "Y = np.matmul(A,Omega)\n",
    "for i in list(range(0,q)):\n",
    "    Q, R = np.linalg.qr(Y)\n",
    "    Q, R = np.linalg.qr(np.matmul(np.transpose(A), Q))\n",
    "    Y = np.matmul(A,Q)\n",
    "Q, R = np.linalg.qr(Y)\n",
    "# Apply traditional svd on B and gain approx svd for A\n",
    "B = np.matmul(np.transpose(Q),A)\n",
    "U_hat, S, V_t = np.linalg.svd(B)\n",
    "U = np.matmul(Q,U_hat)\n",
    "# Now svd for A is approx U, S, V_t\n",
    "end = time.time()\n",
    "\n",
    "print(end-start)"
   ]
  },
  {
   "cell_type": "code",
   "execution_count": 92,
   "metadata": {},
   "outputs": [
    {
     "data": {
      "image/png": "[encoded data removed]",
      "text/plain": [
       "<Figure size 432x288 with 1 Axes>"
      ]
     },
     "metadata": {
      "needs_background": "light"
     },
     "output_type": "display_data"
    }
   ],
   "source": [
    "#### how about how accurate q=0 and k=2 is?\n",
    "import matplotlib.pyplot as plt\n",
    "plt.plot(S,color = \"blue\")\n",
    "plt.plot(S2,color=\"red\")\n",
    "plt.xlim(0,50)\n",
    "#plt.ylim(0,100)\n",
    "plt.show()"
   ]
  },
  {
   "cell_type": "code",
   "execution_count": null,
   "metadata": {},
   "outputs": [],
   "source": [
    "#### super exact... WHY?"
   ]
  },
  {
   "cell_type": "markdown",
   "metadata": {},
   "source": [
    "# Consideration & Discussion"
   ]
  },
  {
   "cell_type": "markdown",
   "metadata": {},
   "source": [
    "* No matter how many times $A$ is generated, it always has rapid decay of spectrum.\n",
    "* We want random matrix that has gradual decay of spectrum for better experimentations of rsvd.\n",
    "* It seems like very low amount of random vectors (Omega) still capture the spectrum very well. Is there flaw in the codes?\n",
    "* Might be that since our matrix $A$ seems like to have very quick decay in spectrum, so it made B to be calculated with high accuracy??\n"
   ]
  },
  {
   "cell_type": "code",
   "execution_count": null,
   "metadata": {},
   "outputs": [],
   "source": []
  }
 ],
 "metadata": {
  "kernelspec": {
   "display_name": "Python 3",
   "language": "python",
   "name": "python3"
  },
  "language_info": {
   "codemirror_mode": {
    "name": "ipython",
    "version": 3
   },
   "file_extension": ".py",
   "mimetype": "text/x-python",
   "name": "python",
   "nbconvert_exporter": "python",
   "pygments_lexer": "ipython3",
   "version": "3.7.1"
  }
 },
 "nbformat": 4,
 "nbformat_minor": 2
}
